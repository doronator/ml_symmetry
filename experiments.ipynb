{
 "cells": [
  {
   "cell_type": "markdown",
   "metadata": {},
   "source": [
    "###### Imports"
   ]
  },
  {
   "cell_type": "code",
   "execution_count": 1,
   "metadata": {
    "collapsed": false
   },
   "outputs": [
    {
     "name": "stdout",
     "output_type": "stream",
     "text": [
      "Populating the interactive namespace from numpy and matplotlib\n"
     ]
    }
   ],
   "source": [
    "%pylab inline"
   ]
  },
  {
   "cell_type": "code",
   "execution_count": 2,
   "metadata": {
    "collapsed": false
   },
   "outputs": [],
   "source": [
    "import numpy as np\n",
    "from sklearn import datasets, metrics\n",
    "from sklearn.model_selection import train_test_split\n",
    "from sklearn.neural_network import MLPClassifier\n",
    "\n",
    "from src.NN_sans_bias import ConstrainedMLPClassifier\n",
    "from src.utils import nudge_dataset, plot_sample, inversion_symmetric_features"
   ]
  },
  {
   "cell_type": "markdown",
   "metadata": {},
   "source": [
    "###### Initial data preparation"
   ]
  },
  {
   "cell_type": "code",
   "execution_count": 3,
   "metadata": {
    "collapsed": true
   },
   "outputs": [],
   "source": [
    "digits = datasets.load_digits()\n",
    "X = np.asarray(digits.data, 'float32')\n",
    "X, Y = nudge_dataset(X, digits.target)\n",
    "X = (X - np.min(X, 0)) / (np.max(X, 0) + 0.0001)  # 0-1 scaling\n",
    "X = 2*X - 1 # [-1,1] scaling"
   ]
  },
  {
   "cell_type": "markdown",
   "metadata": {},
   "source": [
    "###### Training on the original dataset"
   ]
  },
  {
   "cell_type": "code",
   "execution_count": 4,
   "metadata": {
    "collapsed": true
   },
   "outputs": [],
   "source": [
    "hidden_layer_sizes = (10, 5)"
   ]
  },
  {
   "cell_type": "code",
   "execution_count": 5,
   "metadata": {
    "collapsed": false
   },
   "outputs": [
    {
     "data": {
      "text/plain": [
       "ConstrainedMLPClassifier(activation='tanh', alpha=1e-05, batch_size='auto',\n",
       "             beta_1=0.9, beta_2=0.999, early_stopping=False, epsilon=1e-08,\n",
       "             fit_intercepts=False, hidden_layer_sizes=(10, 5),\n",
       "             learning_rate='constant', learning_rate_init=0.001,\n",
       "             max_iter=200, momentum=0.9, nesterovs_momentum=True,\n",
       "             power_t=0.5, random_state=2, shuffle=True, solver='lbfgs',\n",
       "             tol=0.0001, validation_fraction=0.1, verbose=False,\n",
       "             warm_start=False)"
      ]
     },
     "execution_count": 5,
     "metadata": {},
     "output_type": "execute_result"
    }
   ],
   "source": [
    "X_train, X_test, Y_train, Y_test = train_test_split(X, Y,\n",
    "                                                    test_size=0.2,\n",
    "                                                    random_state=0)\n",
    "\n",
    "model1 = MLPClassifier(solver='lbfgs',\n",
    "                        alpha=1e-5,\n",
    "                        activation='tanh',\n",
    "                        hidden_layer_sizes=hidden_layer_sizes,\n",
    "                        random_state=1)\n",
    "\n",
    "model2 = ConstrainedMLPClassifier(solver='lbfgs',\n",
    "                                  alpha=1e-5, activation='tanh',\n",
    "                                  hidden_layer_sizes=hidden_layer_sizes,\n",
    "                                  random_state=2,\n",
    "                                  fit_intercepts=False)\n",
    "\n",
    "model1.fit(X_train, Y_train)\n",
    "model2.fit(X_train, Y_train)"
   ]
  },
  {
   "cell_type": "code",
   "execution_count": 6,
   "metadata": {
    "collapsed": true
   },
   "outputs": [],
   "source": [
    "def accuracy(y_true, y_pred):\n",
    "    return (y_true==y_pred).sum()/len(y_true)"
   ]
  },
  {
   "cell_type": "code",
   "execution_count": 7,
   "metadata": {
    "collapsed": false
   },
   "outputs": [
    {
     "name": "stdout",
     "output_type": "stream",
     "text": [
      "NN model with biases test results:\n",
      "             precision    recall  f1-score   support\n",
      "\n",
      "          0       0.88      0.91      0.89       174\n",
      "          1       0.79      0.70      0.74       184\n",
      "          2       0.80      0.87      0.83       166\n",
      "          3       0.82      0.81      0.82       194\n",
      "          4       0.88      0.87      0.87       186\n",
      "          5       0.86      0.78      0.82       181\n",
      "          6       0.90      0.90      0.90       207\n",
      "          7       0.86      0.84      0.85       154\n",
      "          8       0.70      0.69      0.69       182\n",
      "          9       0.64      0.72      0.68       169\n",
      "\n",
      "avg / total       0.81      0.81      0.81      1797\n",
      "\n",
      "\n",
      "NN model without biases test results:\n",
      "             precision    recall  f1-score   support\n",
      "\n",
      "          0       0.94      0.94      0.94       174\n",
      "          1       0.78      0.77      0.77       184\n",
      "          2       0.83      0.92      0.87       166\n",
      "          3       0.84      0.81      0.83       194\n",
      "          4       0.83      0.85      0.84       186\n",
      "          5       0.84      0.82      0.83       181\n",
      "          6       0.93      0.91      0.92       207\n",
      "          7       0.83      0.90      0.86       154\n",
      "          8       0.75      0.68      0.71       182\n",
      "          9       0.80      0.79      0.80       169\n",
      "\n",
      "avg / total       0.84      0.84      0.84      1797\n",
      "\n",
      "\n",
      "And now on the inverted set:\n",
      "NN model with biases test results on inverted test set:\n",
      "             precision    recall  f1-score   support\n",
      "\n",
      "          0       0.01      0.03      0.02       174\n",
      "          1       0.00      0.00      0.00       184\n",
      "          2       0.00      0.00      0.00       166\n",
      "          3       0.00      0.00      0.00       194\n",
      "          4       0.05      0.16      0.08       186\n",
      "          5       0.00      0.00      0.00       181\n",
      "          6       0.00      0.00      0.00       207\n",
      "          7       0.00      0.00      0.00       154\n",
      "          8       0.03      0.01      0.01       182\n",
      "          9       0.01      0.01      0.01       169\n",
      "\n",
      "avg / total       0.01      0.02      0.01      1797\n",
      "\n",
      "\n",
      "NN model without biases on inverted test results:\n",
      "             precision    recall  f1-score   support\n",
      "\n",
      "          0       0.00      0.00      0.00       174\n",
      "          1       0.01      0.01      0.01       184\n",
      "          2       0.00      0.00      0.00       166\n",
      "          3       0.00      0.00      0.00       194\n",
      "          4       0.00      0.00      0.00       186\n",
      "          5       0.00      0.00      0.00       181\n",
      "          6       0.00      0.00      0.00       207\n",
      "          7       0.00      0.00      0.00       154\n",
      "          8       0.00      0.00      0.00       182\n",
      "          9       0.00      0.00      0.00       169\n",
      "\n",
      "avg / total       0.00      0.00      0.00      1797\n",
      "\n",
      "\n"
     ]
    },
    {
     "name": "stderr",
     "output_type": "stream",
     "text": [
      "/home/doron/anaconda3/lib/python3.6/site-packages/sklearn/metrics/classification.py:1113: UndefinedMetricWarning: Precision and F-score are ill-defined and being set to 0.0 in labels with no predicted samples.\n",
      "  'precision', 'predicted', average, warn_for)\n"
     ]
    }
   ],
   "source": [
    "result_1 = \"NN model with biases test results:\\n{}\\n\".format(\n",
    "    metrics.classification_report(\n",
    "        Y_test,\n",
    "        model1.predict(X_test)))\n",
    "print(result_1)\n",
    "\n",
    "result_2 = \"NN model without biases test results:\\n{}\\n\".format(\n",
    "    metrics.classification_report(\n",
    "        Y_test,\n",
    "        model2.predict(X_test)))\n",
    "print(result_2)\n",
    "\n",
    "print(\"And now on the inverted set:\")\n",
    "\n",
    "result_3 = \"NN model with biases test results on inverted test set:\\n{}\\n\".format(\n",
    "    metrics.classification_report(\n",
    "        Y_test,\n",
    "        model1.predict(-X_test)))\n",
    "print(result_3)\n",
    "\n",
    "result_4 = \"NN model without biases on inverted test results:\\n{}\\n\".format(\n",
    "    metrics.classification_report(\n",
    "        Y_test,\n",
    "        model2.predict(-X_test)))\n",
    "print(result_4)"
   ]
  },
  {
   "cell_type": "code",
   "execution_count": 8,
   "metadata": {
    "collapsed": false
   },
   "outputs": [
    {
     "name": "stdout",
     "output_type": "stream",
     "text": [
      "0.811\n",
      "0.839\n",
      "0.021\n",
      "0.001\n"
     ]
    }
   ],
   "source": [
    "print(f\"{accuracy(Y_test, model1.predict(X_test)):.3f}\")\n",
    "print(f\"{accuracy(Y_test, model2.predict(X_test)):.3f}\")\n",
    "print(f\"{accuracy(Y_test, model1.predict(-X_test)):.3f}\")\n",
    "print(f\"{accuracy(Y_test, model2.predict(-X_test)):.3f}\")"
   ]
  },
  {
   "cell_type": "markdown",
   "metadata": {},
   "source": [
    "###### training on both the original data and the inverted data"
   ]
  },
  {
   "cell_type": "code",
   "execution_count": 9,
   "metadata": {
    "collapsed": false
   },
   "outputs": [
    {
     "data": {
      "text/plain": [
       "ConstrainedMLPClassifier(activation='tanh', alpha=1e-05, batch_size='auto',\n",
       "             beta_1=0.9, beta_2=0.999, early_stopping=False, epsilon=1e-08,\n",
       "             fit_intercepts=False, hidden_layer_sizes=(10, 5),\n",
       "             learning_rate='constant', learning_rate_init=0.001,\n",
       "             max_iter=200, momentum=0.9, nesterovs_momentum=True,\n",
       "             power_t=0.5, random_state=2, shuffle=True, solver='lbfgs',\n",
       "             tol=0.0001, validation_fraction=0.1, verbose=False,\n",
       "             warm_start=False)"
      ]
     },
     "execution_count": 9,
     "metadata": {},
     "output_type": "execute_result"
    }
   ],
   "source": [
    "X_train, X_test, Y_train, Y_test = train_test_split(X, Y,\n",
    "                                                    test_size=0.2,\n",
    "                                                    random_state=0)\n",
    "\n",
    "model1b = MLPClassifier(solver='lbfgs',\n",
    "                        alpha=1e-5,\n",
    "                        activation='tanh',\n",
    "                        hidden_layer_sizes=hidden_layer_sizes,\n",
    "                        random_state=1)\n",
    "\n",
    "model2b = ConstrainedMLPClassifier(solver='lbfgs',\n",
    "                                  alpha=1e-5, activation='tanh',\n",
    "                                  hidden_layer_sizes=hidden_layer_sizes,\n",
    "                                  random_state=2,\n",
    "                                  fit_intercepts=False)\n",
    "\n",
    "X_train_2 = np.vstack((X_train, -X_train))\n",
    "Y_train_2 = np.hstack((Y_train,  Y_train))\n",
    "\n",
    "assert X_train_2.shape[1]==64\n",
    "\n",
    "model1b.fit(X_train_2, Y_train_2)\n",
    "model2b.fit(X_train_2, Y_train_2)"
   ]
  },
  {
   "cell_type": "code",
   "execution_count": 10,
   "metadata": {
    "collapsed": false
   },
   "outputs": [
    {
     "name": "stdout",
     "output_type": "stream",
     "text": [
      "NN model with biases trained on original+inverted dataset test results:\n",
      "             precision    recall  f1-score   support\n",
      "\n",
      "          0       0.80      0.94      0.86       174\n",
      "          1       0.55      0.52      0.53       184\n",
      "          2       0.59      0.67      0.63       166\n",
      "          3       0.66      0.63      0.65       194\n",
      "          4       0.93      0.86      0.89       186\n",
      "          5       0.31      0.15      0.20       181\n",
      "          6       0.80      0.95      0.87       207\n",
      "          7       0.79      0.88      0.83       154\n",
      "          8       0.52      0.55      0.53       182\n",
      "          9       0.62      0.64      0.63       169\n",
      "\n",
      "avg / total       0.66      0.68      0.66      1797\n",
      "\n",
      "\n",
      "NN model without biases trained on original+inverted dataset test results:\n",
      "             precision    recall  f1-score   support\n",
      "\n",
      "          0       0.02      0.01      0.01       174\n",
      "          1       0.13      0.23      0.17       184\n",
      "          2       0.04      0.03      0.03       166\n",
      "          3       0.20      0.09      0.12       194\n",
      "          4       0.03      0.01      0.01       186\n",
      "          5       0.13      0.36      0.19       181\n",
      "          6       0.08      0.08      0.08       207\n",
      "          7       0.40      0.01      0.03       154\n",
      "          8       0.14      0.32      0.20       182\n",
      "          9       1.00      0.01      0.02       169\n",
      "\n",
      "avg / total       0.21      0.12      0.09      1797\n",
      "\n",
      "\n",
      "And now on the inverted set:\n",
      "un-constrained NN model test results:\n",
      "             precision    recall  f1-score   support\n",
      "\n",
      "          0       0.94      0.94      0.94       174\n",
      "          1       0.57      0.51      0.54       184\n",
      "          2       0.55      0.69      0.61       166\n",
      "          3       0.70      0.54      0.61       194\n",
      "          4       0.91      0.88      0.89       186\n",
      "          5       0.40      0.15      0.22       181\n",
      "          6       0.84      0.96      0.89       207\n",
      "          7       0.82      0.88      0.85       154\n",
      "          8       0.48      0.71      0.57       182\n",
      "          9       0.62      0.66      0.64       169\n",
      "\n",
      "avg / total       0.68      0.69      0.68      1797\n",
      "\n",
      "\n",
      "constrained NN model test results:\n",
      "             precision    recall  f1-score   support\n",
      "\n",
      "          0       0.08      0.05      0.06       174\n",
      "          1       0.02      0.01      0.01       184\n",
      "          2       0.11      0.34      0.16       166\n",
      "          3       0.06      0.20      0.10       194\n",
      "          4       0.23      0.10      0.14       186\n",
      "          5       0.00      0.00      0.00       181\n",
      "          6       0.12      0.18      0.15       207\n",
      "          7       0.00      0.00      0.00       154\n",
      "          8       0.02      0.01      0.01       182\n",
      "          9       0.12      0.02      0.03       169\n",
      "\n",
      "avg / total       0.08      0.09      0.07      1797\n",
      "\n",
      "\n"
     ]
    },
    {
     "name": "stderr",
     "output_type": "stream",
     "text": [
      "/home/doron/anaconda3/lib/python3.6/site-packages/sklearn/metrics/classification.py:1113: UndefinedMetricWarning: Precision and F-score are ill-defined and being set to 0.0 in labels with no predicted samples.\n",
      "  'precision', 'predicted', average, warn_for)\n"
     ]
    }
   ],
   "source": [
    "result_5 = \"NN model with biases trained on original+inverted dataset test results:\\n{}\\n\".format(\n",
    "    metrics.classification_report(\n",
    "        Y_test,\n",
    "        model1b.predict(X_test)))\n",
    "print(result_5)\n",
    "\n",
    "result_6 = \"NN model without biases trained on original+inverted dataset test results:\\n{}\\n\".format(\n",
    "    metrics.classification_report(\n",
    "        Y_test,\n",
    "        model2b.predict(X_test)))\n",
    "print(result_6)\n",
    "\n",
    "print(\"And now on the inverted set:\")\n",
    "\n",
    "\n",
    "print(\"un-constrained NN model test results:\\n{}\\n\".format(\n",
    "    metrics.classification_report(\n",
    "        Y_test,\n",
    "        model1b.predict(-X_test))))\n",
    "\n",
    "print(\"constrained NN model test results:\\n{}\\n\".format(\n",
    "    metrics.classification_report(\n",
    "        Y_test,\n",
    "        model2b.predict(-X_test))))"
   ]
  },
  {
   "cell_type": "code",
   "execution_count": 11,
   "metadata": {
    "collapsed": false
   },
   "outputs": [
    {
     "name": "stdout",
     "output_type": "stream",
     "text": [
      "0.679\n",
      "0.119\n",
      "0.691\n",
      "0.091\n"
     ]
    }
   ],
   "source": [
    "print(f\"{accuracy(Y_test, model1b.predict(X_test)):.3f}\")\n",
    "print(f\"{accuracy(Y_test, model2b.predict(X_test)):.3f}\")\n",
    "print(f\"{accuracy(Y_test, model1b.predict(-X_test)):.3f}\")\n",
    "print(f\"{accuracy(Y_test, model2b.predict(-X_test)):.3f}\")"
   ]
  },
  {
   "cell_type": "markdown",
   "metadata": {},
   "source": [
    "###### train on symmetric features"
   ]
  },
  {
   "cell_type": "code",
   "execution_count": 12,
   "metadata": {
    "collapsed": false
   },
   "outputs": [
    {
     "data": {
      "text/plain": [
       "ConstrainedMLPClassifier(activation='tanh', alpha=1e-05, batch_size='auto',\n",
       "             beta_1=0.9, beta_2=0.999, early_stopping=False, epsilon=1e-08,\n",
       "             fit_intercepts=False, hidden_layer_sizes=(10, 5),\n",
       "             learning_rate='constant', learning_rate_init=0.001,\n",
       "             max_iter=200, momentum=0.9, nesterovs_momentum=True,\n",
       "             power_t=0.5, random_state=1, shuffle=True, solver='lbfgs',\n",
       "             tol=0.0001, validation_fraction=0.1, verbose=False,\n",
       "             warm_start=False)"
      ]
     },
     "execution_count": 12,
     "metadata": {},
     "output_type": "execute_result"
    }
   ],
   "source": [
    "X_train, X_test, Y_train, Y_test = train_test_split(X, Y,\n",
    "                                                    test_size=0.2,\n",
    "                                                    random_state=0)\n",
    "\n",
    "model3 = ConstrainedMLPClassifier(solver='lbfgs',\n",
    "                                  alpha=1e-5, activation='tanh',\n",
    "                                  hidden_layer_sizes=hidden_layer_sizes,\n",
    "                                  random_state=1,\n",
    "                                  fit_intercepts=False)\n",
    "\n",
    "XX_train = inversion_symmetric_features(X_train)\n",
    "XX_test = inversion_symmetric_features(X_test)\n",
    "\n",
    "np.testing.assert_allclose(XX_test, inversion_symmetric_features(-X_test))\n",
    "\n",
    "model3.fit(XX_train, Y_train)"
   ]
  },
  {
   "cell_type": "code",
   "execution_count": 13,
   "metadata": {
    "collapsed": false
   },
   "outputs": [
    {
     "name": "stdout",
     "output_type": "stream",
     "text": [
      "constrained NN model test results:\n",
      "             precision    recall  f1-score   support\n",
      "\n",
      "          0       0.89      0.91      0.90       174\n",
      "          1       0.85      0.85      0.85       184\n",
      "          2       0.78      0.90      0.84       166\n",
      "          3       0.79      0.77      0.78       194\n",
      "          4       0.85      0.85      0.85       186\n",
      "          5       0.89      0.82      0.85       181\n",
      "          6       0.94      0.93      0.93       207\n",
      "          7       0.81      0.95      0.88       154\n",
      "          8       0.81      0.72      0.76       182\n",
      "          9       0.77      0.69      0.73       169\n",
      "\n",
      "avg / total       0.84      0.84      0.84      1797\n",
      "\n",
      "\n"
     ]
    }
   ],
   "source": [
    "result_string = \"constrained NN model test results:\\n{}\\n\".format(\n",
    "    metrics.classification_report(\n",
    "        Y_test,\n",
    "        model3.predict(XX_test)))\n",
    "\n",
    "print(result_string)"
   ]
  },
  {
   "cell_type": "code",
   "execution_count": 14,
   "metadata": {
    "collapsed": false
   },
   "outputs": [
    {
     "name": "stdout",
     "output_type": "stream",
     "text": [
      "0.840\n"
     ]
    }
   ],
   "source": [
    "print(f\"{accuracy(Y_test, model3.predict(XX_test)):.3f}\")"
   ]
  },
  {
   "cell_type": "code",
   "execution_count": 15,
   "metadata": {
    "collapsed": false
   },
   "outputs": [
    {
     "name": "stdout",
     "output_type": "stream",
     "text": [
      "now plot the features for y=6\n"
     ]
    },
    {
     "data": {
      "image/png": "[encoded data removed]",
      "text/plain": [
       "<matplotlib.figure.Figure at 0x7f1f8fddc710>"
      ]
     },
     "metadata": {},
     "output_type": "display_data"
    },
    {
     "data": {
      "image/png": "[encoded data removed]",
      "text/plain": [
       "<matplotlib.figure.Figure at 0x7f1f8fdc6860>"
      ]
     },
     "metadata": {},
     "output_type": "display_data"
    },
    {
     "data": {
      "image/png": "[encoded data removed]",
      "text/plain": [
       "<matplotlib.figure.Figure at 0x7f1f85210fd0>"
      ]
     },
     "metadata": {},
     "output_type": "display_data"
    }
   ],
   "source": [
    "import matplotlib.pyplot as plt\n",
    "\n",
    "# idx = 0\n",
    "# print(f\"now plot the features for y={digits.target[idx]}\")\n",
    "# x = digits.data[idx, :]\n",
    "# plot_sample(x)\n",
    "# print(x.shape)\n",
    "#\n",
    "# _x = x.reshape(1, 64)\n",
    "# _xx = -1 + 2*(_x - np.min(_x)) / (np.max(_x) - np.min(_x) + 0.0001)  # [-1,1] scaling\n",
    "#\n",
    "# xx = inversion_symmetric_features(_xx)\n",
    "# plot_sample(xx)\n",
    "\n",
    "\n",
    "idx = 1173\n",
    "\n",
    "x = -1 + 2*digits.data[idx]/16\n",
    "y = digits.target[idx]\n",
    "xx = inversion_symmetric_features(np.array([x]))\n",
    "\n",
    "print(f\"now plot the features for y={y}\")\n",
    "plot_sample(x)\n",
    "# plt.savefig(f\"./original_features_digit_{y}.png\")\n",
    "# plt.show()\n",
    "\n",
    "plot_sample(-x)\n",
    "# plt.savefig(f\"./inverted_features_digit_{y}.png\")\n",
    "# plt.show()\n",
    "\n",
    "plot_sample(xx[0,:])\n",
    "# plt.savefig(f\"./gradient_features_digit_{y}.png\")\n",
    "# plt.show()\n",
    "\n"
   ]
  },
  {
   "cell_type": "code",
   "execution_count": 16,
   "metadata": {
    "collapsed": false
   },
   "outputs": [
    {
     "data": {
      "image/png": "[encoded data removed]",
      "text/plain": [
       "<matplotlib.figure.Figure at 0x7f1f85480b70>"
      ]
     },
     "metadata": {},
     "output_type": "display_data"
    }
   ],
   "source": [
    "fig, axes = plt.subplots(1,3, figsize=(12, 4))\n",
    "\n",
    "axes[0].imshow(x.reshape((8,8)), cmap=plt.cm.gray_r,\n",
    "           interpolation='nearest')\n",
    "\n",
    "axes[1].imshow(-x.reshape((8,8)), cmap=plt.cm.gray_r,\n",
    "           interpolation='nearest')\n",
    "\n",
    "axes[2].imshow(xx[0,:].reshape((8,8)), cmap=plt.cm.gray_r,\n",
    "           interpolation='nearest');\n",
    "\n",
    "# plt.savefig(\"./notes/images/six_cubed.png\")"
   ]
  },
  {
   "cell_type": "code",
   "execution_count": null,
   "metadata": {
    "collapsed": true
   },
   "outputs": [],
   "source": []
  }
 ],
 "metadata": {
  "kernelspec": {
   "display_name": "Python 3",
   "language": "python",
   "name": "python3"
  },
  "language_info": {
   "codemirror_mode": {
    "name": "ipython",
    "version": 3
   },
   "file_extension": ".py",
   "mimetype": "text/x-python",
   "name": "python",
   "nbconvert_exporter": "python",
   "pygments_lexer": "ipython3",
   "version": "3.6.0"
  }
 },
 "nbformat": 4,
 "nbformat_minor": 2
}
