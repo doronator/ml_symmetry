{
 "cells": [
  {
   "cell_type": "markdown",
   "metadata": {},
   "source": [
    "###### Imports"
   ]
  },
  {
   "cell_type": "code",
   "execution_count": 1,
   "metadata": {
    "collapsed": false
   },
   "outputs": [
    {
     "name": "stdout",
     "output_type": "stream",
     "text": [
      "Populating the interactive namespace from numpy and matplotlib\n"
     ]
    }
   ],
   "source": [
    "%pylab inline"
   ]
  },
  {
   "cell_type": "code",
   "execution_count": 2,
   "metadata": {
    "collapsed": false
   },
   "outputs": [],
   "source": [
    "import numpy as np\n",
    "import pandas as pd\n",
    "from sklearn import datasets, metrics\n",
    "from sklearn.model_selection import train_test_split\n",
    "from sklearn.neural_network import MLPClassifier\n",
    "from scipy.ndimage import convolve\n",
    "\n",
    "from src.NN_sans_bias import ConstrainedMLPClassifier"
   ]
  },
  {
   "cell_type": "code",
   "execution_count": 3,
   "metadata": {
    "collapsed": true
   },
   "outputs": [],
   "source": [
    "np.random.seed(1717)"
   ]
  },
  {
   "cell_type": "markdown",
   "metadata": {},
   "source": [
    "###### Define useful functions"
   ]
  },
  {
   "cell_type": "code",
   "execution_count": 4,
   "metadata": {
    "collapsed": true
   },
   "outputs": [],
   "source": [
    "\n",
    "def nudge_dataset(X, Y):\n",
    "    \"\"\"\n",
    "    This produces a dataset 5 times bigger than the original one,\n",
    "    by moving the 8x8 images in X around by 1px to left, right, down, up\n",
    "    \"\"\"\n",
    "    direction_vectors = [\n",
    "        [[0, 1, 0],\n",
    "         [0, 0, 0],\n",
    "         [0, 0, 0]],\n",
    "\n",
    "        [[0, 0, 0],\n",
    "         [1, 0, 0],\n",
    "         [0, 0, 0]],\n",
    "\n",
    "        [[0, 0, 0],\n",
    "         [0, 0, 1],\n",
    "         [0, 0, 0]],\n",
    "\n",
    "        [[0, 0, 0],\n",
    "         [0, 0, 0],\n",
    "         [0, 1, 0]]]\n",
    "\n",
    "    shift = lambda x, w: convolve(x.reshape((8, 8)), mode='constant',\n",
    "                                     weights=w).ravel()\n",
    "    X = np.concatenate([X] +\n",
    "                       [np.apply_along_axis(shift, 1, X, vector)\n",
    "                        for vector in direction_vectors])\n",
    "    Y = np.concatenate([Y for _ in range(5)], axis=0)\n",
    "    return X, Y\n",
    "\n",
    "\n",
    "def plot_sample(x, img_size=(8, 8)):\n",
    "    plt.figure(figsize=(4.2, 4))\n",
    "    plt.imshow(x.reshape(img_size), cmap=plt.cm.gray_r,\n",
    "               interpolation='nearest')\n",
    "    plt.xticks(())\n",
    "    plt.yticks(())\n",
    "\n",
    "def inversion_symmetric_features(X, image_shape=(8,8)):\n",
    "    n_samples, n_features = X.shape\n",
    "    assert n_features==image_shape[0]*image_shape[1]\n",
    "    _X = X.reshape(n_samples, *image_shape)\n",
    "    result = _X*np.roll(_X, shift=-1, axis=2)\n",
    "    return result.reshape(n_samples, n_features)\n",
    "\n",
    "def random_permutation_inversion_symmetric_features(X, permutation):\n",
    "    _, n_features = X.shape\n",
    "    assert n_features==len(permutation)\n",
    "    result = X * X[:, permutation]\n",
    "    return result\n",
    "\n",
    "def accuracy(y_true, y_pred):\n",
    "    return (y_true==y_pred).sum()/len(y_true)"
   ]
  },
  {
   "cell_type": "markdown",
   "metadata": {},
   "source": [
    "###### Initial data preparation"
   ]
  },
  {
   "cell_type": "code",
   "execution_count": 5,
   "metadata": {
    "collapsed": true
   },
   "outputs": [],
   "source": [
    "digits = datasets.load_digits()\n",
    "X = np.asarray(digits.data, 'float32')\n",
    "X, Y = nudge_dataset(X, digits.target)\n",
    "X = (X - np.min(X, 0)) / (np.max(X, 0) + 0.0001)  # 0-1 scaling\n",
    "X = 2*X - 1 # [-1,1] scaling"
   ]
  },
  {
   "cell_type": "markdown",
   "metadata": {},
   "source": [
    "###### Training on the original dataset"
   ]
  },
  {
   "cell_type": "code",
   "execution_count": 6,
   "metadata": {
    "collapsed": true
   },
   "outputs": [],
   "source": [
    "hidden_layer_sizes = (10, 5)"
   ]
  },
  {
   "cell_type": "code",
   "execution_count": 7,
   "metadata": {
    "collapsed": false
   },
   "outputs": [],
   "source": [
    "X_train, X_test, Y_train, Y_test = train_test_split(X, Y,\n",
    "                                                    test_size=0.2,\n",
    "                                                    random_state=0)\n",
    "\n",
    "model1 = MLPClassifier(solver='lbfgs',\n",
    "                        alpha=1e-5,\n",
    "                        activation='tanh',\n",
    "                        hidden_layer_sizes=hidden_layer_sizes,\n",
    "                        random_state=1)\n",
    "\n",
    "model2 = ConstrainedMLPClassifier(solver='lbfgs',\n",
    "                                  alpha=1e-5, activation='tanh',\n",
    "                                  hidden_layer_sizes=hidden_layer_sizes,\n",
    "                                  random_state=2,\n",
    "                                  fit_intercepts=False)\n",
    "\n",
    "model1.fit(X_train, Y_train)\n",
    "model2.fit(X_train, Y_train);"
   ]
  },
  {
   "cell_type": "markdown",
   "metadata": {},
   "source": [
    "###### training on both the original data and the inverted data"
   ]
  },
  {
   "cell_type": "code",
   "execution_count": 8,
   "metadata": {
    "collapsed": false
   },
   "outputs": [],
   "source": [
    "X_train_2, X_test_2, Y_train_2, Y_test_2 = train_test_split(X, Y,\n",
    "                                                    test_size=0.2,\n",
    "                                                    random_state=0)\n",
    "\n",
    "model1b = MLPClassifier(solver='lbfgs',\n",
    "                        alpha=1e-5,\n",
    "                        activation='tanh',\n",
    "                        hidden_layer_sizes=hidden_layer_sizes,\n",
    "                        random_state=1)\n",
    "\n",
    "model2b = ConstrainedMLPClassifier(solver='lbfgs',\n",
    "                                  alpha=1e-5, activation='tanh',\n",
    "                                  hidden_layer_sizes=hidden_layer_sizes,\n",
    "                                  random_state=2,\n",
    "                                  fit_intercepts=False)\n",
    "\n",
    "_X_train_2 = np.vstack((X_train_2, -X_train_2))\n",
    "_Y_train_2 = np.hstack((Y_train_2,  Y_train_2))\n",
    "\n",
    "assert _X_train_2.shape[1]==64\n",
    "\n",
    "model1b.fit(_X_train_2, _Y_train_2)\n",
    "model2b.fit(_X_train_2, _Y_train_2);"
   ]
  },
  {
   "cell_type": "markdown",
   "metadata": {},
   "source": [
    "###### train on symmetric features - first just the square features"
   ]
  },
  {
   "cell_type": "code",
   "execution_count": 9,
   "metadata": {
    "collapsed": false
   },
   "outputs": [],
   "source": [
    "X_train_3, X_test_3, Y_train_3, Y_test_3 = train_test_split(X, Y,\n",
    "                                                    test_size=0.2,\n",
    "                                                    random_state=0)\n",
    "\n",
    "model3 = MLPClassifier(solver='lbfgs',\n",
    "                        alpha=1e-5,\n",
    "                        activation='tanh',\n",
    "                        hidden_layer_sizes=hidden_layer_sizes,\n",
    "                        random_state=1)\n",
    "\n",
    "model4 = ConstrainedMLPClassifier(solver='lbfgs',\n",
    "                                  alpha=1e-5, activation='tanh',\n",
    "                                  hidden_layer_sizes=hidden_layer_sizes,\n",
    "                                  random_state=1,\n",
    "                                  fit_intercepts=False)\n",
    "\n",
    "XX_train_3 = X_train_3**2\n",
    "XX_test_3 = X_test_3**2\n",
    "\n",
    "model3.fit(XX_train_3, Y_train_3)\n",
    "model4.fit(XX_train_3, Y_train_3);"
   ]
  },
  {
   "cell_type": "markdown",
   "metadata": {},
   "source": [
    "######  train on symmetric features - gradient like features"
   ]
  },
  {
   "cell_type": "code",
   "execution_count": 10,
   "metadata": {
    "collapsed": false
   },
   "outputs": [],
   "source": [
    "X_train_4, X_test_4, Y_train_4, Y_test_4 = train_test_split(X, Y,\n",
    "                                                    test_size=0.2,\n",
    "                                                    random_state=0)\n",
    "\n",
    "model5 = MLPClassifier(solver='lbfgs',\n",
    "                        alpha=1e-5,\n",
    "                        activation='tanh',\n",
    "                        hidden_layer_sizes=hidden_layer_sizes,\n",
    "                        random_state=1)\n",
    "\n",
    "model6 = ConstrainedMLPClassifier(solver='lbfgs',\n",
    "                                  alpha=1e-5, activation='tanh',\n",
    "                                  hidden_layer_sizes=hidden_layer_sizes,\n",
    "                                  random_state=1,\n",
    "                                  fit_intercepts=False)\n",
    "\n",
    "XX_train_4 = inversion_symmetric_features(X_train_4)\n",
    "XX_test_4 = inversion_symmetric_features(X_test_4)\n",
    "\n",
    "np.testing.assert_allclose(XX_test_4, inversion_symmetric_features(-X_test_4))\n",
    "\n",
    "model5.fit(XX_train_4, Y_train_4)\n",
    "model6.fit(XX_train_4, Y_train_4);"
   ]
  },
  {
   "cell_type": "markdown",
   "metadata": {},
   "source": [
    "###### train with random permutation symmetric features"
   ]
  },
  {
   "cell_type": "code",
   "execution_count": 11,
   "metadata": {
    "collapsed": false
   },
   "outputs": [],
   "source": [
    "# test that the permutation features generator is working correctly\n",
    "# if the using the identity permutation, the result should be just X**2\n",
    "\n",
    "n_features = X.shape[1]\n",
    "\n",
    "np.testing.assert_allclose(X**2,\n",
    "                           random_permutation_inversion_symmetric_features(X, permutation=np.arange(n_features)))"
   ]
  },
  {
   "cell_type": "code",
   "execution_count": 12,
   "metadata": {
    "collapsed": false
   },
   "outputs": [],
   "source": [
    "X_train_5, X_test_5, Y_train_5, Y_test_5 = train_test_split(X, Y,\n",
    "                                                    test_size=0.2,\n",
    "                                                    random_state=0)\n",
    "\n",
    "model7 = MLPClassifier(solver='lbfgs',\n",
    "                        alpha=1e-5,\n",
    "                        activation='tanh',\n",
    "                        hidden_layer_sizes=hidden_layer_sizes,\n",
    "                        random_state=1)\n",
    "\n",
    "model8 = ConstrainedMLPClassifier(solver='lbfgs',\n",
    "                                  alpha=1e-5, activation='tanh',\n",
    "                                  hidden_layer_sizes=hidden_layer_sizes,\n",
    "                                  random_state=1,\n",
    "                                  fit_intercepts=False)\n",
    "\n",
    "# fixed, but randomly selected permutation:\n",
    "permutation = np.random.permutation(n_features)\n",
    "\n",
    "XX_train_5 = random_permutation_inversion_symmetric_features(X_train_5, permutation=permutation)\n",
    "XX_test_5 = random_permutation_inversion_symmetric_features(X_test_5, permutation=permutation)\n",
    "\n",
    "np.testing.assert_allclose(XX_test_5, \n",
    "                           random_permutation_inversion_symmetric_features(-X_test_5, permutation=permutation))\n",
    "\n",
    "model7.fit(XX_train_5, Y_train_5)\n",
    "model8.fit(XX_train_5, Y_train_5);"
   ]
  },
  {
   "cell_type": "markdown",
   "metadata": {},
   "source": [
    "###### plots and accuracy results"
   ]
  },
  {
   "cell_type": "code",
   "execution_count": 13,
   "metadata": {
    "collapsed": false
   },
   "outputs": [
    {
     "data": {
      "image/png": "[encoded data removed]",
      "text/plain": [
       "<matplotlib.figure.Figure at 0x7fe43a61a0f0>"
      ]
     },
     "metadata": {},
     "output_type": "display_data"
    }
   ],
   "source": [
    "idx = 1173\n",
    "\n",
    "x = -1 + 2*digits.data[idx]/16\n",
    "y = digits.target[idx]\n",
    "xx = inversion_symmetric_features(np.array([x]))\n",
    "\n",
    "fig, axes = plt.subplots(1,3, figsize=(12, 4))\n",
    "\n",
    "axes[0].imshow(x.reshape((8,8)), cmap=plt.cm.gray_r,\n",
    "           interpolation='nearest')\n",
    "\n",
    "axes[1].imshow(-x.reshape((8,8)), cmap=plt.cm.gray_r,\n",
    "           interpolation='nearest')\n",
    "\n",
    "axes[2].imshow(xx[0,:].reshape((8,8)), cmap=plt.cm.gray_r,\n",
    "           interpolation='nearest');\n",
    "\n",
    "# plt.savefig(\"./six_cubed.png\")"
   ]
  },
  {
   "cell_type": "code",
   "execution_count": 14,
   "metadata": {
    "collapsed": false
   },
   "outputs": [
    {
     "name": "stdout",
     "output_type": "stream",
     "text": [
      "non-symmetry-invariant models\n",
      "\n",
      "No bias\n",
      "\n",
      "Training only on X_train, accuracy on X_test \n",
      "0.839\n",
      "Training only on X_train, accuracy on -X_test \n",
      "0.001\n",
      "Training on X_train and -X_train, accuracy on X_test \n",
      "0.119\n",
      "Training on X_train and -X_train, accuracy on -X_test \n",
      "0.091\n",
      "\n",
      "With bias\n",
      "\n",
      "Training only on X_train, accuracy on X_test \n",
      "0.811\n",
      "Training only on X_train, accuracy on -X_test \n",
      "0.021\n",
      "Training on X_train and -X_train, accuracy on X_test \n",
      "0.679\n",
      "Training on X_train and -X_train, accuracy on -X_test \n",
      "0.691\n"
     ]
    }
   ],
   "source": [
    "print(\"non-symmetry-invariant models\")\n",
    "\n",
    "print(\"\\nNo bias\\n\")\n",
    "\n",
    "print(\"Training only on X_train, accuracy on X_test \\n{:.3f}\".format(\n",
    "    accuracy(Y_test, model2.predict(X_test))))\n",
    "print(\"Training only on X_train, accuracy on -X_test \\n{:.3f}\".format(\n",
    "    accuracy(Y_test, model2.predict(-X_test))))\n",
    "\n",
    "print(\"Training on X_train and -X_train, accuracy on X_test \\n{:.3f}\".format(\n",
    "    accuracy(Y_test_2, model2b.predict(X_test_2))))\n",
    "print(\"Training on X_train and -X_train, accuracy on -X_test \\n{:.3f}\".format(\n",
    "    accuracy(Y_test_2, model2b.predict(-X_test_2))))\n",
    "\n",
    "print(\"\\nWith bias\\n\")\n",
    "\n",
    "print(\"Training only on X_train, accuracy on X_test \\n{:.3f}\".format(\n",
    "    accuracy(Y_test, model1.predict(X_test))))\n",
    "print(\"Training only on X_train, accuracy on -X_test \\n{:.3f}\".format(\n",
    "    accuracy(Y_test, model1.predict(-X_test))))\n",
    "\n",
    "print(\"Training on X_train and -X_train, accuracy on X_test \\n{:.3f}\".format(\n",
    "    accuracy(Y_test_2, model1b.predict(X_test_2))))\n",
    "print(\"Training on X_train and -X_train, accuracy on -X_test \\n{:.3f}\".format(\n",
    "    accuracy(Y_test_2, model1b.predict(-X_test_2))))"
   ]
  },
  {
   "cell_type": "code",
   "execution_count": 15,
   "metadata": {
    "collapsed": false
   },
   "outputs": [
    {
     "name": "stdout",
     "output_type": "stream",
     "text": [
      "symmetry-invariant models\n",
      "\n",
      "No bias\n",
      "\n",
      "Using square features \n",
      "0.646\n",
      "Using gradient-like features \n",
      "0.840\n",
      "Using randomized features \n",
      "0.814\n",
      "\n",
      "With bias\n",
      "\n",
      "Using square features \n",
      "0.659\n",
      "Using gradient-like features \n",
      "0.866\n",
      "Using randomized features \n",
      "0.821\n"
     ]
    }
   ],
   "source": [
    "print(\"symmetry-invariant models\")\n",
    "\n",
    "print(\"\\nNo bias\\n\")\n",
    "\n",
    "print(\"Using square features \\n{:.3f}\".format(accuracy(Y_test_3, model4.predict(XX_test_3))))\n",
    "print(\"Using gradient-like features \\n{:.3f}\".format(accuracy(Y_test_4, model6.predict(XX_test_4))))\n",
    "print(\"Using randomized features \\n{:.3f}\".format(accuracy(Y_test_5, model8.predict(XX_test_5))))\n",
    "\n",
    "print(\"\\nWith bias\\n\")\n",
    "\n",
    "print(\"Using square features \\n{:.3f}\".format(accuracy(Y_test_3, model3.predict(XX_test_3))))\n",
    "print(\"Using gradient-like features \\n{:.3f}\".format(accuracy(Y_test_4, model5.predict(XX_test_4))))\n",
    "print(\"Using randomized features \\n{:.3f}\".format(accuracy(Y_test_5, model7.predict(XX_test_5))))\n",
    "\n"
   ]
  }
 ],
 "metadata": {
  "kernelspec": {
   "display_name": "Python [default]",
   "language": "python",
   "name": "python3"
  },
  "language_info": {
   "codemirror_mode": {
    "name": "ipython",
    "version": 3
   },
   "file_extension": ".py",
   "mimetype": "text/x-python",
   "name": "python",
   "nbconvert_exporter": "python",
   "pygments_lexer": "ipython3",
   "version": "3.6.0"
  }
 },
 "nbformat": 4,
 "nbformat_minor": 2
}
