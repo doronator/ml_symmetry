{
 "cells": [
  {
   "cell_type": "markdown",
   "metadata": {},
   "source": [
    "### Imports"
   ]
  },
  {
   "cell_type": "code",
   "execution_count": 1,
   "metadata": {},
   "outputs": [
    {
     "name": "stdout",
     "output_type": "stream",
     "text": [
      "Populating the interactive namespace from numpy and matplotlib\n"
     ]
    }
   ],
   "source": [
    "%pylab inline"
   ]
  },
  {
   "cell_type": "code",
   "execution_count": 2,
   "metadata": {},
   "outputs": [],
   "source": [
    "import numpy as np\n",
    "import pandas as pd\n",
    "from sklearn import datasets, metrics\n",
    "from sklearn.model_selection import train_test_split\n",
    "from sklearn.neural_network import MLPClassifier\n",
    "from sklearn.datasets import fetch_mldata\n",
    "from sklearn.utils import shuffle"
   ]
  },
  {
   "cell_type": "markdown",
   "metadata": {},
   "source": [
    "###### seed random number generator"
   ]
  },
  {
   "cell_type": "code",
   "execution_count": 3,
   "metadata": {},
   "outputs": [],
   "source": [
    "np.random.seed(1717)"
   ]
  },
  {
   "cell_type": "markdown",
   "metadata": {},
   "source": [
    "###### load dataset"
   ]
  },
  {
   "cell_type": "code",
   "execution_count": 4,
   "metadata": {},
   "outputs": [
    {
     "name": "stderr",
     "output_type": "stream",
     "text": [
      "/home/doron/anaconda3/lib/python3.7/site-packages/sklearn/utils/deprecation.py:85: DeprecationWarning: Function fetch_mldata is deprecated; fetch_mldata was deprecated in version 0.20 and will be removed in version 0.22. Please use fetch_openml.\n",
      "  warnings.warn(msg, category=DeprecationWarning)\n",
      "/home/doron/anaconda3/lib/python3.7/site-packages/sklearn/utils/deprecation.py:85: DeprecationWarning: Function mldata_filename is deprecated; mldata_filename was deprecated in version 0.20 and will be removed in version 0.22. Please use fetch_openml.\n",
      "  warnings.warn(msg, category=DeprecationWarning)\n"
     ]
    }
   ],
   "source": [
    "mnist = fetch_mldata('MNIST original')"
   ]
  },
  {
   "cell_type": "code",
   "execution_count": 5,
   "metadata": {},
   "outputs": [
    {
     "data": {
      "text/plain": [
       "((70000, 784), (70000,), array([0., 1., 2., 3., 4., 5., 6., 7., 8., 9.]))"
      ]
     },
     "execution_count": 5,
     "metadata": {},
     "output_type": "execute_result"
    }
   ],
   "source": [
    "mnist.data.shape, mnist.target.shape, np.unique(mnist.target)"
   ]
  },
  {
   "cell_type": "markdown",
   "metadata": {},
   "source": [
    "### Define useful functions"
   ]
  },
  {
   "cell_type": "code",
   "execution_count": 6,
   "metadata": {},
   "outputs": [],
   "source": [
    "def plot_sample(x, img_size=(28, 28)):\n",
    "    plt.figure(figsize=(4.2, 4))\n",
    "    plt.imshow(x.reshape(img_size), cmap=plt.cm.gray_r,\n",
    "               interpolation='nearest')\n",
    "    plt.xticks(())\n",
    "    plt.yticks(())\n",
    "\n",
    "def random_permutation_inversion_symmetric_features(X, permutation):\n",
    "    \"\"\"inversion symmetry invariant features - random products of pairs\"\"\"\n",
    "    _, n_features = X.shape\n",
    "    assert n_features==len(permutation)\n",
    "    result = X * X[:, permutation]\n",
    "    return result\n",
    "\n",
    "def accuracy(y_true, y_pred):\n",
    "    \"\"\"fraction of predictions that are correct\"\"\"\n",
    "    return (y_true==y_pred).sum()/len(y_true)"
   ]
  },
  {
   "cell_type": "markdown",
   "metadata": {},
   "source": [
    "### test useful functions:\n",
    "\n",
    "###### test the accuracy function"
   ]
  },
  {
   "cell_type": "code",
   "execution_count": 7,
   "metadata": {},
   "outputs": [],
   "source": [
    "assert accuracy(np.array([1,1]), np.array([1,0])) == 0.5"
   ]
  },
  {
   "cell_type": "markdown",
   "metadata": {},
   "source": [
    "#### test that the permutation features generator is working correctly\n",
    "\n",
    "A = random input\n",
    "\n",
    "Symmetry invariant features should be the same for A and -A"
   ]
  },
  {
   "cell_type": "code",
   "execution_count": 8,
   "metadata": {},
   "outputs": [],
   "source": [
    "\n",
    "A = np.random.rand(20,30)*2 - 1\n",
    "\n",
    "# if the using the identity permutation, the result should be just A**2\n",
    "_n_features = A.shape[1]\n",
    "identity_permutation = np.arange(_n_features)\n",
    "np.testing.assert_allclose(A**2,\n",
    "                           random_permutation_inversion_symmetric_features(A, permutation=identity_permutation))\n",
    "\n",
    "# fixed, but randomly selected permutation:\n",
    "_permutation = np.random.permutation(_n_features)\n",
    "\n",
    "B1 = random_permutation_inversion_symmetric_features(A, permutation=_permutation)\n",
    "B2 = random_permutation_inversion_symmetric_features(-A, permutation=_permutation)\n",
    "\n",
    "np.testing.assert_allclose(B1, B2)\n"
   ]
  },
  {
   "cell_type": "markdown",
   "metadata": {},
   "source": [
    "###### test plotting"
   ]
  },
  {
   "cell_type": "code",
   "execution_count": 9,
   "metadata": {},
   "outputs": [
    {
     "data": {
      "image/png": "[encoded data removed]",
      "text/plain": [
       "<Figure size 302.4x288 with 1 Axes>"
      ]
     },
     "metadata": {},
     "output_type": "display_data"
    }
   ],
   "source": [
    "plot_sample(mnist.data[-1])"
   ]
  },
  {
   "cell_type": "markdown",
   "metadata": {},
   "source": [
    "### Data preparation"
   ]
  },
  {
   "cell_type": "code",
   "execution_count": 10,
   "metadata": {},
   "outputs": [],
   "source": [
    "X = mnist.data\n",
    "Y = mnist.target\n",
    "X = (X - np.min(X, 0)) / (np.max(X, 0) + 0.0001)  # 0-1 scaling\n",
    "X = 2*X - 1 # [-1,1] scaling"
   ]
  },
  {
   "cell_type": "code",
   "execution_count": 11,
   "metadata": {},
   "outputs": [
    {
     "data": {
      "text/plain": [
       "(0.999999215686582, -1.0)"
      ]
     },
     "execution_count": 11,
     "metadata": {},
     "output_type": "execute_result"
    }
   ],
   "source": [
    "X.max(), X.min()"
   ]
  },
  {
   "cell_type": "code",
   "execution_count": 12,
   "metadata": {},
   "outputs": [
    {
     "data": {
      "text/plain": [
       "((70000, 784), (70000,))"
      ]
     },
     "execution_count": 12,
     "metadata": {},
     "output_type": "execute_result"
    }
   ],
   "source": [
    "X.shape, Y.shape"
   ]
  },
  {
   "cell_type": "markdown",
   "metadata": {},
   "source": [
    "###### verify grayscale inversion is just changing the sign:"
   ]
  },
  {
   "cell_type": "code",
   "execution_count": 13,
   "metadata": {},
   "outputs": [
    {
     "data": {
      "image/png": "[encoded data removed]",
      "text/plain": [
       "<Figure size 302.4x288 with 1 Axes>"
      ]
     },
     "metadata": {},
     "output_type": "display_data"
    }
   ],
   "source": [
    "plot_sample(-X[-1])"
   ]
  },
  {
   "cell_type": "markdown",
   "metadata": {},
   "source": [
    "### Training\n",
    "\n",
    "###### Training on the original dataset"
   ]
  },
  {
   "cell_type": "code",
   "execution_count": 14,
   "metadata": {},
   "outputs": [],
   "source": [
    "hidden_layer_sizes = (10, 5)\n",
    "\n",
    "solver = 'lbfgs'"
   ]
  },
  {
   "cell_type": "code",
   "execution_count": 15,
   "metadata": {},
   "outputs": [],
   "source": [
    "X_train, X_test, Y_train, Y_test = train_test_split(X, Y,\n",
    "                                                    test_size=0.2,\n",
    "                                                    random_state=0)\n",
    "\n",
    "model1 = MLPClassifier(solver=solver,\n",
    "                        alpha=1e-5,\n",
    "                        activation='tanh',\n",
    "                        hidden_layer_sizes=hidden_layer_sizes,\n",
    "                        random_state=1,\n",
    "                        early_stopping=True)\n",
    "\n",
    "model1.fit(X_train, Y_train);"
   ]
  },
  {
   "cell_type": "markdown",
   "metadata": {},
   "source": [
    "###### training on both the original data and the inverted data"
   ]
  },
  {
   "cell_type": "code",
   "execution_count": 16,
   "metadata": {},
   "outputs": [],
   "source": [
    "X_train_2, X_test_2, Y_train_2, Y_test_2 = train_test_split(X, Y,\n",
    "                                                    test_size=0.2,\n",
    "                                                    random_state=17)\n",
    "\n",
    "model2 = MLPClassifier(solver=solver,\n",
    "                        alpha=1e-5,\n",
    "                        activation='tanh',\n",
    "                        hidden_layer_sizes=hidden_layer_sizes,\n",
    "                        random_state=71,\n",
    "                        early_stopping=True)\n",
    "\n",
    "# augment the data\n",
    "_X_train_2 = np.vstack((X_train_2, -X_train_2))\n",
    "_Y_train_2 = np.hstack((Y_train_2,  Y_train_2))\n",
    "\n",
    "_X_train_2, _Y_train_2 = shuffle(_X_train_2, _Y_train_2, random_state=176)\n",
    "\n",
    "assert _X_train_2.shape[1]==X_train_2.shape[1]\n",
    "\n",
    "model2.fit(_X_train_2, _Y_train_2);"
   ]
  },
  {
   "cell_type": "markdown",
   "metadata": {},
   "source": [
    "###### train with random permutation symmetric features"
   ]
  },
  {
   "cell_type": "code",
   "execution_count": 17,
   "metadata": {},
   "outputs": [],
   "source": [
    "X_train_3, X_test_3, Y_train_3, Y_test_3 = train_test_split(X, Y,\n",
    "                                                    test_size=0.2,\n",
    "                                                    random_state=717)\n",
    "\n",
    "model3 = MLPClassifier(solver=solver,\n",
    "                        alpha=1e-5,\n",
    "                        activation='tanh',\n",
    "                        hidden_layer_sizes=hidden_layer_sizes,\n",
    "                        random_state=771,\n",
    "                        early_stopping=True)\n",
    "\n",
    "# fixed, but randomly selected permutation:\n",
    "n_features = X.shape[1]\n",
    "permutation = np.random.permutation(n_features)\n",
    "\n",
    "XX_train_3 = random_permutation_inversion_symmetric_features(X_train_3, permutation=permutation)\n",
    "XX_test_3 = random_permutation_inversion_symmetric_features(X_test_3, permutation=permutation)\n",
    "\n",
    "np.testing.assert_allclose(XX_test_3, \n",
    "                           random_permutation_inversion_symmetric_features(-X_test_3, permutation=permutation))\n",
    "\n",
    "model3.fit(XX_train_3, Y_train_3);"
   ]
  },
  {
   "cell_type": "code",
   "execution_count": 18,
   "metadata": {},
   "outputs": [
    {
     "data": {
      "image/png": "[encoded data removed]",
      "text/plain": [
       "<Figure size 302.4x288 with 1 Axes>"
      ]
     },
     "metadata": {},
     "output_type": "display_data"
    }
   ],
   "source": [
    "idx = 17760\n",
    "\n",
    "plot_sample(X[idx])"
   ]
  },
  {
   "cell_type": "code",
   "execution_count": 19,
   "metadata": {},
   "outputs": [
    {
     "data": {
      "image/png": "[encoded data removed]",
      "text/plain": [
       "<Figure size 302.4x288 with 1 Axes>"
      ]
     },
     "metadata": {},
     "output_type": "display_data"
    }
   ],
   "source": [
    "plot_sample(random_permutation_inversion_symmetric_features(np.array([X[idx]]), permutation=permutation))"
   ]
  },
  {
   "cell_type": "code",
   "execution_count": 20,
   "metadata": {},
   "outputs": [
    {
     "data": {
      "image/png": "[encoded data removed]",
      "text/plain": [
       "<Figure size 302.4x288 with 1 Axes>"
      ]
     },
     "metadata": {},
     "output_type": "display_data"
    }
   ],
   "source": [
    "plot_sample(random_permutation_inversion_symmetric_features(np.array([-X[idx]]), permutation=permutation))"
   ]
  },
  {
   "cell_type": "markdown",
   "metadata": {},
   "source": [
    "###### accuracy results"
   ]
  },
  {
   "cell_type": "code",
   "execution_count": 21,
   "metadata": {},
   "outputs": [],
   "source": [
    "PURPLE = '\\033[95m'\n",
    "CYAN = '\\033[96m'\n",
    "DARKCYAN = '\\033[36m'\n",
    "BLUE = '\\033[94m'\n",
    "GREEN = '\\033[92m'\n",
    "YELLOW = '\\033[93m'\n",
    "RED = '\\033[91m'\n",
    "BOLD = '\\033[1m'\n",
    "UNDERLINE = '\\033[4m'\n",
    "END = '\\033[0m'\n",
    "\n",
    "STYLE = DARKCYAN + BOLD"
   ]
  },
  {
   "cell_type": "code",
   "execution_count": 22,
   "metadata": {},
   "outputs": [
    {
     "name": "stdout",
     "output_type": "stream",
     "text": [
      "non-symmetry-invariant models\n",
      "Training only on X_train, accuracy on X_test\n",
      "\u001b[36m\u001b[1m0.666\u001b[0m\n",
      "Training only on X_train, accuracy on -X_test\n",
      "\u001b[36m\u001b[1m0.002\u001b[0m\n",
      "Training on X_train and -X_train, accuracy on X_test\n",
      "\u001b[36m\u001b[1m0.753\u001b[0m\n",
      "Training on X_train and -X_train, accuracy on -X_test\n",
      "\u001b[36m\u001b[1m0.308\u001b[0m\n"
     ]
    }
   ],
   "source": [
    "print(\"non-symmetry-invariant models\")\n",
    "\n",
    "print(\"Training only on X_train, accuracy on X_test\")\n",
    "print(STYLE + \"{:.3f}\".format(accuracy(Y_test, model1.predict(X_test))) + END)\n",
    "\n",
    "print(\"Training only on X_train, accuracy on -X_test\")\n",
    "print(STYLE + \"{:.3f}\".format(accuracy(Y_test, model1.predict(-X_test))) + END)\n",
    "\n",
    "\n",
    "print(\"Training on X_train and -X_train, accuracy on X_test\")\n",
    "print(STYLE + \"{:.3f}\".format(accuracy(Y_test_2, model2.predict(X_test_2))) + END)\n",
    "\n",
    "\n",
    "print(\"Training on X_train and -X_train, accuracy on -X_test\")\n",
    "print(STYLE + \"{:.3f}\".format(accuracy(Y_test_2, model2.predict(-X_test_2))) + END)\n"
   ]
  },
  {
   "cell_type": "code",
   "execution_count": 23,
   "metadata": {},
   "outputs": [
    {
     "name": "stdout",
     "output_type": "stream",
     "text": [
      "symmetry-invariant model\n",
      "Using randomized features\n",
      "\u001b[36m\u001b[1m0.917\u001b[0m\n"
     ]
    }
   ],
   "source": [
    "print(\"symmetry-invariant model\")\n",
    "\n",
    "print(\"Using randomized features\")\n",
    "print(STYLE +  \"{:.3f}\".format(accuracy(Y_test_3, model3.predict(XX_test_3))) + END)"
   ]
  },
  {
   "cell_type": "markdown",
   "metadata": {},
   "source": [
    "# Without symmetry ~0.75 accuracy. With symmetry ~ 0.9 !"
   ]
  },
  {
   "cell_type": "code",
   "execution_count": null,
   "metadata": {},
   "outputs": [],
   "source": []
  }
 ],
 "metadata": {
  "kernelspec": {
   "display_name": "Python 3",
   "language": "python",
   "name": "python3"
  },
  "language_info": {
   "codemirror_mode": {
    "name": "ipython",
    "version": 3
   },
   "file_extension": ".py",
   "mimetype": "text/x-python",
   "name": "python",
   "nbconvert_exporter": "python",
   "pygments_lexer": "ipython3",
   "version": "3.7.3"
  }
 },
 "nbformat": 4,
 "nbformat_minor": 2
}
